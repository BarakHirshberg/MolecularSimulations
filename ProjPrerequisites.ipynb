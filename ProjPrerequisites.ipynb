{
 "cells": [
  {
   "cell_type": "markdown",
   "id": "b5d885a4-27d4-4a51-b4a0-ec51e3f040d0",
   "metadata": {},
   "source": [
    "# Prerequisites for numerical projects\n",
    "Before you start your first project, here are some instructions and prerequisites for setting up your development environment. \n",
    "\n"
   ]
  },
  {
   "cell_type": "markdown",
   "id": "f1c377bc-e985-40a0-b767-cc7defea145a",
   "metadata": {},
   "source": [
    "## The Linux terminal\n",
    "Linux terminals are command-line interfaces that allow users to interact with the operating system through text-based commands. \n",
    "These terminals provide powerful tools for managing files, processes, and system resources, enabling users to execute commands, write scripts, and automate tasks efficiently.\n",
    "\n",
    "\n",
    "If you have never used it, I highly recommend knowing it. \n",
    "You can see, for example, this basic [tutorial](https://ubuntu.com/tutorials/command-line-for-beginners#1-overview) by Ubuntu, one of the most popular Linux distributions. \n",
    "The operating system of your computer does not have to be Linux to use the Linux terminal. \n",
    "Mac OS has a terminal, and so does Windows. On Mac, just open the terminal. To enable the Windows Subsystem for Linux (WSL), see the following [instructions](https://docs.microsoft.com/en-us/windows/wsl/install).\n",
    "You do not have to use the Linux terminal if you do not want to. To complete the project, you can either use Codespaces (see below) or have a local Anaconda installation and GitHub Desktop (see below)."
   ]
  },
  {
   "cell_type": "markdown",
   "id": "3bb01370-b45c-4199-9e30-e5c50df3179e",
   "metadata": {},
   "source": [
    "## GitHub basics\n",
    "\n",
    "[GitHub](https://github.com/) is a code hosting platform for software development. It relies on an open-source version control system called [Git](https://git-scm.com/). De facto, all software development projects today use some kind of version control. It allows us to develop the code together as a team, keep track of changes, suggest new features, and merge everything in a simple workflow.\n",
    "\n",
    "The basic object is a *repository* (\"repo\"), which stores all of the source code for the project.\n",
    "You can create your repo or *clone* (GitHub jargon for copying) an existing repo.\n",
    "You can also *fork* a repo, which is similar to cloning, but you typically do it when you want to contribute your changes back to the original repo and not just develop your version.\n",
    "\n",
    "Each repository can have several *branches*. The default one is called *main*.\n",
    "When you want to implement a new feature, the typical workflow is to clone the repository and create a new branch dedicated to your feature. In this way, you will not change the main version of the code while you work. Next, you develop the new feature by adding or editing the source code. Every time you would like to save a checkpoint that you could return to if needed, you should *commit* your changes and *push* them to update the remote repository. When you want to discuss your changes and consult with your team, you can create a *pull request* on GitHub.\n",
    "Once you are done with all changes, you must *merge* your branch back with the original main branch. This is done by closing the pull request and merging.\n"
   ]
  },
  {
   "cell_type": "markdown",
   "id": "6dd81131-a32b-4ab5-b663-423c278344ea",
   "metadata": {},
   "source": [
    "Let's open an account:\n",
    "\n",
    "- Create a free account on [GitHub](https://github.com/).\n",
    "- Free upgrade to Pro with [GitHub Student Developer Pack](https://education.github.com/pack). "
   ]
  },
  {
   "cell_type": "markdown",
   "id": "368b6837-fe62-4416-a84d-bf5042b12cf4",
   "metadata": {},
   "source": [
    "## GitHub Classroom Assignments\n",
    "\n",
    "The course assignments will be handled through GitHub Classroom, which simplifies the management of programming assignments by using GitHub's repository and version control features. It allows teachers to distribute tasks and review student submissions efficiently, enhancing collaboration and feedback in computer science education.\n",
    "\n",
    "The first \"assignment\" is an exercise developed by GitHub to let you practice this workflow. It will explain everything I mentioned in brief and more. \n",
    "This and all next assignments can be done using the GitHub Codespaces environment (recommended) or a local development environment (for more advanced users who are at ease with Linux and Anaconda).\n",
    "\n",
    "You will need to accept each assignment. For example, accept the first \"assignment\": Git and GitHub fundamentals. You can find a link to this \"assignment\" in the course's moodle.\n",
    "Click the green `Autorize GitHub Classroom` button and then click `Accept this assignment`. This will create your assignment's remote repository.\n",
    "\n",
    "![Codespaces](codespace1.jpeg)\n",
    "\n",
    "The `git-and-github-fundamentals` has one `README.md` text file which explains the GitHub workflow. Read it carefully, follow the links as needed, and ensure you understand GitHub's workflow."
   ]
  },
  {
   "cell_type": "markdown",
   "id": "89b31bf1-1680-4080-83a3-69e8695a0c45",
   "metadata": {},
   "source": [
    "Selecting a working environment, you may choose between the following two options:\n",
    "### 1. Github Codespaces:\n",
    "GitHub Codespaces is a cloud-based platform provided by GitHub, offering a fully configured and customizable development environment directly within the browser. It enables developers to create, edit, and run code without setting up anything on your local machine. This service supports Visual Studio Code, allowing for a seamless and familiar coding experience. Additionally, it allows multiple developers to work in the same environment.\n",
    "\n",
    "Click the black button `Open in GitHub Codespaces` to open a new window with the Codespaces environment. As you may see, this environment allows you to edit the GitHub fundamentals repository in your browser, offering full GitHub functionallity using the icons on the left of your screen.\n",
    "\n",
    "#### Save & Sync\n",
    "![sync](sync.jpeg)\n",
    "\n",
    "To save and sync changes, click on the source control button on the left of the screen, add a short message describing the changes you have made in the message line, then push the green `Commit` button. On the message prompt click `Yes`, then push the new green button `Sync Changes` to update your remote repository.\n",
    "  \n",
    "#### Codespaces Access\n",
    "After you saved your work, you can exit codespaces by simply closing its tab. Anytime you wish to re-access it, open [GitHub](https://github.com) and click your `git-and-github-fundamentals-YOURNAME` repository. Click the green button `Code` and select the `Codespaces` tab. This should feature the last codespaces environment you opened and allow you to access it.\n",
    "\n",
    "![Codespaces2](codespace2.jpeg)\n"
   ]
  },
  {
   "cell_type": "markdown",
   "id": "e4c735f3-dfa5-4be3-968a-caf3caa7ca19",
   "metadata": {},
   "source": [
    "### 2. Local Git Development:\n",
    "Alternatively, you may use Git on your local machine to manage and track changes in the code. This method offers the flexibility to work offline and experiment with different features in isolated branches but requires more advanced configuration management skills. \n",
    "\n",
    "To do it, first choose whether you will be working with a graphical user interface (GUI) or through the terminal:\n",
    "| For GUI users                                                                                        | For terminal users                                                                                                                    |\n",
    "|------------------------------------------------------------------------------------------------------|-----------------------------------------------------------------------------------------------------------------------------------|\n",
    "| Install [GitHub Desktop](https://desktop.github.com/) to clone, commit and push to repo.             | Windows: Install WSL. Follow these [instructions](https://docs.microsoft.com/en-us/windows/wsl/install). In other OS, terminals are already built in.                          |\n",
    "\n",
    "\n",
    "- Install [Anaconda](https://www.anaconda.com/products/individual) and work with Spyder to edit files. You can also use [Pycharm](https://www.jetbrains.com/pycharm/) if you prefer, but it is not installed by default with Anaconda.\n",
    "\n",
    "- Clone the first assignment's repository locally to your computer using the GitHub classroom link (edit YOURNAME): `https://github.com/Molecular-Simulations-Course/git-and-github-fundamentals-YOURNAME` . The changes you will make on your local copy will not affect the remote one until you push your changes.\n",
    "```\n",
    "git clone https://github.com/Molecular-Simulations-Course/git-and-github-fundamentals-YOURNAME\n",
    "\n",
    "```\n",
    "- Create your branch and switch to working in it using the command \n",
    "```\n",
    "git checkout -b myBranch\n",
    "\n",
    "```\n",
    "- Create a new Markdown file `Hello_world.md` using Spyder and add to it some text.\n",
    "- Commit your changes.\n",
    "```\n",
    "git commit Hello_world.md\n",
    "\n",
    "```\n",
    "- Push your changes to the remote repo.\n",
    "```\n",
    "git push\n",
    "\n",
    "```\n",
    "\n",
    "All of the steps above can also be done using the GUI of GitHub desktop instead."
   ]
  },
  {
   "cell_type": "markdown",
   "id": "ddb6be62-a24b-4252-950d-a6eee4f4e358",
   "metadata": {},
   "source": [
    "## Test Driven Development\n",
    "Test Driven Development (TDD) is a software development approach where tests are written before the actual code. The process involves writing a test for a specific functionality, running the test to see it fail (since the feature is not yet implemented), and then writing the minimum amount of code required to pass the test. After the code passes the test, it is refactored to improve its structure while ensuring that all tests still pass. TDD promotes better design, higher code quality, and ensures that the software is thoroughly tested from the outset, leading to fewer bugs and more maintainable code."
   ]
  },
  {
   "cell_type": "markdown",
   "id": "0c5096b6-f441-47ee-8690-64d76b068ec5",
   "metadata": {},
   "source": [
    "### Doctest\n",
    "Under TDD guidelines, you will work with Python's doctest module. It allows you to embed test cases directly in your docstrings and run them as part of your documentation. By writing tests within the docstrings of your functions, classes, or modules, doctest can execute these snippets of code to verify that they produce the expected output. This approach is useful for ensuring that your code examples in documentation are accurate and up-to-date. It also serves as a lightweight testing framework, making it easy to validate small units of code without needing a separate test script. Doctest promotes writing clear and executable documentation, which can improve code reliability and maintainability. "
   ]
  },
  {
   "cell_type": "markdown",
   "id": "7bc36193-7257-4554-ae5a-f760109bc84f",
   "metadata": {},
   "source": [
    "#### How does Doctest work?\n",
    "\n",
    "To find and run your test cases, doctest follows a few steps:\n",
    "- Searches for text that looks like Python interactive sessions in your documentation and docstrings\n",
    "- Parses those pieces of text to distinguish between executable code and expected results\n",
    "- Runs the executable code like regular Python code\n",
    "- Compares the execution result with the expected result\n",
    "\n",
    "In the following section, you’ll learn how to check the return values the printed outputs of a given piece of code. You’ll also learn how to create test cases for code that must raise exceptions and how to run preparation steps before executing your test cases. \n",
    "\n"
   ]
  },
  {
   "cell_type": "markdown",
   "id": "ad121743-22fa-4ceb-a946-18fafbbde6b9",
   "metadata": {},
   "source": [
    "#### Rules of Thumb for Testing\n",
    "Writing tests for code is crucial for ensuring its reliability and robustness, especially when considering extreme cases:\n",
    "\n",
    "- Very Large or Small Numbers: Test with the maximum and minimum values the data type can hold.\n",
    "- Zero and Negative Numbers: Include tests for zero and various negative numbers.\n",
    "- Empty Strings: Ensure the function handles empty string inputs appropriately.\n",
    "- Null Values: Verify that the code gracefully handles null or undefined inputs.\n",
    "- Invalid Data Types: Test the function with unexpected data types to check for robustness.\n",
    "\n",
    "By rigorously testing these extremes, developers can uncover potential issues and ensure their code handles all possible scenarios gracefully, resulting in more stable and dependable software."
   ]
  },
  {
   "cell_type": "markdown",
   "id": "508976c9-bb3a-475c-b2d9-03ae3c2ebc0d",
   "metadata": {},
   "source": [
    "#### Adding doctest to your code:\n",
    "To add `doctest` testing to your code, in the documentaion of your function `func()`, add the following statements with test input and expected output:"
   ]
  },
  {
   "cell_type": "code",
   "execution_count": 2,
   "id": "56621124-618f-4d9c-939b-3163ce3b2e08",
   "metadata": {},
   "outputs": [
    {
     "data": {
      "text/plain": [
       "'\\nExample:\\n    >>> func(test_input)\\n    expected output\\n'"
      ]
     },
     "execution_count": 2,
     "metadata": {},
     "output_type": "execute_result"
    }
   ],
   "source": [
    "'''\n",
    "Example:\n",
    "    >>> func(test_input)\n",
    "    expected output\n",
    "'''"
   ]
  },
  {
   "cell_type": "markdown",
   "id": "73227b0d-df34-4b22-8db0-c2a2fa237a3e",
   "metadata": {},
   "source": [
    "Since the tests are in comments, they will be ignored by the interpreter. To enable them, add the following to your code:"
   ]
  },
  {
   "cell_type": "code",
   "execution_count": 4,
   "id": "e8215a26-1421-4a60-afa1-525203203e48",
   "metadata": {},
   "outputs": [
    {
     "data": {
      "text/plain": [
       "TestResults(failed=0, attempted=3)"
      ]
     },
     "execution_count": 4,
     "metadata": {},
     "output_type": "execute_result"
    }
   ],
   "source": [
    "import doctest\n",
    "doctest.testmod()"
   ]
  },
  {
   "cell_type": "markdown",
   "id": "c0ac6b76-eb98-4097-ae9d-a1b221fc2c5e",
   "metadata": {},
   "source": [
    "This will call the `doctest` module and run the tests."
   ]
  },
  {
   "cell_type": "markdown",
   "id": "0fa992b3-62e3-4190-a7c0-d970dc38ca79",
   "metadata": {},
   "source": [
    "### Examples\n",
    "In the following example we demonstrate how to add doctest to your code, while testing extreme cases:\n",
    "\n",
    "Example 1: Calculating a Numerical Value\n",
    "Let's write a function to calculate the factorial of a number and add `doctest` examples to its docstring. "
   ]
  },
  {
   "cell_type": "code",
   "execution_count": 3,
   "id": "e40913e7-7976-4152-85d8-bd6e18d5d764",
   "metadata": {},
   "outputs": [
    {
     "data": {
      "text/plain": [
       "TestResults(failed=0, attempted=3)"
      ]
     },
     "execution_count": 3,
     "metadata": {},
     "output_type": "execute_result"
    }
   ],
   "source": [
    "def factorial(n):\n",
    "    \"\"\"\n",
    "    Calculate the factorial of a non-negative integer n.\n",
    "\n",
    "    Parameters:\n",
    "    n (int): A non-negative integer.\n",
    "\n",
    "    Returns:\n",
    "    int: The factorial of the given number.\n",
    "\n",
    "    Example:\n",
    "    >>> factorial(5)\n",
    "    120\n",
    "    >>> factorial(0)\n",
    "    1\n",
    "    >>> factorial(3)\n",
    "    6\n",
    "    \"\"\"\n",
    "    if n < 0:\n",
    "        raise ValueError(\"n must be a non-negative integer.\")\n",
    "    if n == 0:\n",
    "        return 1\n",
    "    result = 1\n",
    "    for i in range(1, n + 1):\n",
    "        result *= i\n",
    "    return result\n",
    "\n",
    "import doctest\n",
    "doctest.testmod()\n"
   ]
  },
  {
   "cell_type": "markdown",
   "id": "e4ebb680-983c-4d80-ab47-c621f38db684",
   "metadata": {},
   "source": [
    "As we can see, our function passes the tests in various cases. Let's modify the factorial function to introduce an error:\n"
   ]
  },
  {
   "cell_type": "code",
   "execution_count": 5,
   "id": "af9142bb-1ad2-46fc-aaee-a4d8e56f8a6d",
   "metadata": {},
   "outputs": [
    {
     "name": "stdout",
     "output_type": "stream",
     "text": [
      "**********************************************************************\n",
      "File \"__main__\", line 12, in __main__.factorial\n",
      "Failed example:\n",
      "    factorial(5)\n",
      "Expected:\n",
      "    120\n",
      "Got:\n",
      "    24\n",
      "**********************************************************************\n",
      "File \"__main__\", line 16, in __main__.factorial\n",
      "Failed example:\n",
      "    factorial(3)\n",
      "Expected:\n",
      "    6\n",
      "Got:\n",
      "    2\n",
      "**********************************************************************\n",
      "File \"__main__\", line 18, in __main__.factorial\n",
      "Failed example:\n",
      "    factorial(4)\n",
      "Expected:\n",
      "    24\n",
      "Got:\n",
      "    6\n",
      "**********************************************************************\n",
      "1 items had failures:\n",
      "   3 of   4 in __main__.factorial\n",
      "***Test Failed*** 3 failures.\n"
     ]
    },
    {
     "data": {
      "text/plain": [
       "TestResults(failed=3, attempted=4)"
      ]
     },
     "execution_count": 5,
     "metadata": {},
     "output_type": "execute_result"
    }
   ],
   "source": [
    "def factorial(n):\n",
    "    \"\"\"\n",
    "    Calculate the factorial of a non-negative integer n.\n",
    "\n",
    "    Parameters:\n",
    "    n (int): A non-negative integer.\n",
    "\n",
    "    Returns:\n",
    "    int: The factorial of the given number.\n",
    "\n",
    "    Example:\n",
    "    >>> factorial(5)\n",
    "    120\n",
    "    >>> factorial(0)\n",
    "    1\n",
    "    >>> factorial(3)\n",
    "    6\n",
    "    >>> factorial(4)\n",
    "    24\n",
    "    \"\"\"\n",
    "    if n < 0:\n",
    "        raise ValueError(\"n must be a non-negative integer.\")\n",
    "    if n == 0:\n",
    "        return 1\n",
    "    result = 1\n",
    "    for i in range(1, n):  # Introduced error: should be range(1, n + 1)\n",
    "        result *= i\n",
    "    return result\n",
    "\n",
    "\n",
    "import doctest\n",
    "doctest.testmod()\n"
   ]
  },
  {
   "cell_type": "markdown",
   "id": "0d805dff-f228-4765-9dd3-f0b738f6450d",
   "metadata": {},
   "source": [
    "the `doctest` result summary indicates all tests have failed. This indicates an error in our code (in this case we missed the last product)."
   ]
  },
  {
   "cell_type": "markdown",
   "id": "ba397481-003f-49c7-95dd-cc31b9debb88",
   "metadata": {},
   "source": [
    "### Testing Class Methods \n",
    "Using doctest to test class methods follows the same principles as testing standalone functions. You include example inputs and expected outputs within the docstring of the class methods. This ensures that the methods behave as expected when given specific inputs. It usually require initializing a class instance within the doctest testing. An example can be found in the first project's documentation."
   ]
  },
  {
   "cell_type": "code",
   "execution_count": null,
   "id": "1fdbab03-1399-4609-8d2c-e42e45c8b7b1",
   "metadata": {},
   "outputs": [],
   "source": []
  }
 ],
 "metadata": {
  "kernelspec": {
   "display_name": "Python 3 (ipykernel)",
   "language": "python",
   "name": "python3"
  },
  "language_info": {
   "codemirror_mode": {
    "name": "ipython",
    "version": 3
   },
   "file_extension": ".py",
   "mimetype": "text/x-python",
   "name": "python",
   "nbconvert_exporter": "python",
   "pygments_lexer": "ipython3",
   "version": "3.10.12"
  }
 },
 "nbformat": 4,
 "nbformat_minor": 5
}
