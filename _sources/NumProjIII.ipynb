{
 "cells": [
  {
   "cell_type": "markdown",
   "id": "7ef74c74",
   "metadata": {},
   "source": [
    "# Final project\n",
    "\n",
    "Congratulations! You have succesfully finished your first two projects, implementing you very own MD and Metropolis MC codes.\n",
    "You have also learned some of the theory underlying both methods, including analytical mechanics, statistical mechanics and random processes. This is a highly non-trivial achievement. \n",
    "\n",
    "Now, to the final project that will determine $50\\%$ of your grade. This time, I will not teach you the theory myself. Instead, I will briefly describe three advanced simulation methods that you can choose from, and refer you to the relevant reading material. Your job is to read the material and prepare a short summary, no longer than 5 pages, explaining what you have learned. Focus on the following guiding principles:\n",
    "\n",
    "1) Which advanced method have you chosen to implement?\n",
    "2) Explain what is the problem with standard simulations the method attempts to solve.\n",
    "3) How does the algorithm work? Explain the physical motivation behind it.\n",
    "4) Discuss the limitations of the method.\n",
    "5) Can you think of ways to improve upon it? \n",
    "\n",
    "Then, you need to implement your advanced method and run a simple simulation, as described below.\n",
    "You need to create a repository with the source code of your simulation, and the summary in .ipynb format.\n",
    "I recommend using some of the code we developed in class, and the repository, but you don't have to."
   ]
  },
  {
   "cell_type": "markdown",
   "id": "49f15429",
   "metadata": {},
   "source": [
    "## Option A - Path Integral Methods\n",
    "\n",
    "*The gist:* Throughout this class, we have only discussed classical dynamics and classical statistical mehcanics.\n",
    "What about quantum mechanics? Can any of the methods we learned be utilized for quantum systems?\n",
    "The answer comes from the work of the famous physicist [Richard P. Feynman](https://en.wikipedia.org/wiki/Richard_Feynman).\n",
    "He developed a new formulation of quantum mechanics using a tool called path integrals.\n",
    "His formulations is entirely equivalent to the formulations of quantum mechanics you already know, like the Schrodinger equation, but it is especially illuminating in connecting quantum mechanics with classical mechanics.\n",
    "It essentially extends the prcinciple of least action we discussed previously to quantum systems.\n",
    "But more concretly to our purposes, it also shows how one can use classical MD or MC simulations to evaluate thermal expectation values of quantum systems. Mind blown.\n",
    "\n",
    "*Reading material:* Tuckerman, Chapter 12. \n",
    "\n",
    "*Simulation details:* Evaluate the average thermal total energy of a quantum particle in a one-dimensional Harmonic trap of frequency $\\omega_0$ as a function of inverse temperature $\\beta$. Use values of $\\beta \\hbar\\ \\omega_0 = 1,2,3,4,5,6$. Show that the energy converges to the correct ground state energy as you decrease the temperature (increase $\\beta$). Compare the result at all temperatures with the analytical results that can be derived from the exact expression for the partition function. You can use either MC or MC simulations. PIMD is described in more details in Tuckerman, and you will get bonus points if you do both! Don't forget to show the convergence of your simulation with respect to the number of beads. \n",
    "\n"
   ]
  },
  {
   "cell_type": "code",
   "execution_count": null,
   "id": "e49e2c53",
   "metadata": {},
   "outputs": [],
   "source": []
  }
 ],
 "metadata": {
  "kernelspec": {
   "display_name": "Python 3 (ipykernel)",
   "language": "python",
   "name": "python3"
  },
  "language_info": {
   "codemirror_mode": {
    "name": "ipython",
    "version": 3
   },
   "file_extension": ".py",
   "mimetype": "text/x-python",
   "name": "python",
   "nbconvert_exporter": "python",
   "pygments_lexer": "ipython3",
   "version": "3.9.7"
  }
 },
 "nbformat": 4,
 "nbformat_minor": 5
}
