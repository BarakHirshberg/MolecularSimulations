{
 "cells": [
  {
   "cell_type": "markdown",
   "id": "b8503818",
   "metadata": {},
   "source": [
    "# Numerical project I - MD simulation\n",
    "\n",
    "Congratulations! you have mastered important concepts in classical and statistical mechanics, and MD simulations.\n",
    "You are now ready for your first project - writing your very own MD code, how exciting!\n",
    "The project will be written in Python, a highly popular coding language, extremely relevant both for scientific reserach and the current job market.\n"
   ]
  },
  {
   "cell_type": "markdown",
   "id": "55f6f431",
   "metadata": {},
   "source": [
    "## Installing the Anaconda Python Distribution\n",
    "\n",
    "[Anaconda](https://www.anaconda.com/products/individual) is a very popular Python distribution, aimed for scientific computing. It bundles several extremly useful packages, such as [Numpy](https://numpy.org/), [SciPy](https://scipy.org/) and [Pandas](https://pandas.pydata.org/). If you need to refresh your knowledge in Python, please see the [SciPy lecture notes](https://scipy-lectures.org/).\n",
    "\n",
    "Installing Anaconda is free, just follow these [instructions](https://docs.anaconda.com/anaconda/install/) for Linux, Mac or Windows operating systems. Anaconda also includes a light Integrated Development Environment (IDE) called [Spyder](https://www.spyder-ide.org/). If you already know and like [PyCharm](https://www.jetbrains.com/pycharm/) instead, go ahead and use whatever IDE you like. You can also use any text editor and just run your code through the terminal. But an IDE gives convenient access to powerful tools for modern programming, including debugging, profiling, syntax highlighting and editing, etc.\n"
   ]
  },
  {
   "cell_type": "markdown",
   "id": "d9fab6fd",
   "metadata": {},
   "source": [
    "## The Linux terminal\n",
    "\n",
    "If you have never used it, I highly recommend getting familiar with it. \n",
    "You can see for example this basic [tutorial](https://ubuntu.com/tutorials/command-line-for-beginners#1-overview) by Ubuntu, one of the most popular Linux distribution. \n",
    "The operating system of your computer does not have to be Linux to use the Linux terminal. \n",
    "Mac OS has a terminal, and so does Windows. To enable the Windows Subsystem for Linux (WSL), see the following [instructions](https://docs.microsoft.com/en-us/windows/wsl/install)."
   ]
  },
  {
   "cell_type": "markdown",
   "id": "e95366e5",
   "metadata": {},
   "source": [
    "## GitHub basics\n",
    "\n",
    "GitHub is a code hosting platform for software development. It relies on an open-source version control system called Git. De facto, all software development projects today use some kind of version control. It allows us to develop the code together as a team, keep track of changes, suggest new features, and merge everything together in a simple workflow.\n",
    "\n",
    "The basic object is a repository (\"repo\"), which stores all of the source code for the project.\n",
    "You can create your own repo\n",
    "\n",
    "Terminal users:\n",
    "- Install WSL.\n",
    "- Install Anaconda with Spyder through terminal\n",
    "\n",
    "Windows users:\n",
    "- Install GitHub Desktop to clone, commit and push to repo.\n",
    "- Install Anaconda and work with PyCharm to edit.\n",
    "\n",
    "- Send them the invitation link from GitHub Classroom.\n",
    "- Clone the Git & GitHub Fundamentals repo.\n",
    "- Create you own branch.\n",
    "- Create new Markdown file writing some things.\n",
    "- Commit and push to branch.\n",
    "- Open pull request, assign Barak as reviewer.\n",
    "\n"
   ]
  },
  {
   "cell_type": "code",
   "execution_count": null,
   "id": "7ab1854a",
   "metadata": {},
   "outputs": [],
   "source": []
  }
 ],
 "metadata": {
  "kernelspec": {
   "display_name": "Python 3 (ipykernel)",
   "language": "python",
   "name": "python3"
  },
  "language_info": {
   "codemirror_mode": {
    "name": "ipython",
    "version": 3
   },
   "file_extension": ".py",
   "mimetype": "text/x-python",
   "name": "python",
   "nbconvert_exporter": "python",
   "pygments_lexer": "ipython3",
   "version": "3.9.7"
  }
 },
 "nbformat": 4,
 "nbformat_minor": 5
}
