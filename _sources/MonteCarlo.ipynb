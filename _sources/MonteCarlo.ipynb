{
 "cells": [
  {
   "cell_type": "markdown",
   "id": "91b928f5",
   "metadata": {},
   "source": [
    "# Monte Carlo\n",
    "\n",
    "Now that you have written you code, you have a recipe for evaluating thermodynamic properties for a system in the microcanonical ensemble. But what would you do if you wanted to get a different ensemble? You would have to evaluate Eq.[](ensemble_av_NVT). How would this be done in practice? By running many, many simulations at different total energies, and taking the weighted averages of the thermodynamics property according to the Boltzmann factor. This is very, very expensive. Monte carlo is a clever way to address this problem."
   ]
  }
 ],
 "metadata": {
  "kernelspec": {
   "display_name": "Python 3 (ipykernel)",
   "language": "python",
   "name": "python3"
  },
  "language_info": {
   "codemirror_mode": {
    "name": "ipython",
    "version": 3
   },
   "file_extension": ".py",
   "mimetype": "text/x-python",
   "name": "python",
   "nbconvert_exporter": "python",
   "pygments_lexer": "ipython3",
   "version": "3.9.7"
  }
 },
 "nbformat": 4,
 "nbformat_minor": 5
}
